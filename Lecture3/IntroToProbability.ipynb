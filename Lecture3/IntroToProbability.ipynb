{
 "cells": [
  {
   "cell_type": "markdown",
   "metadata": {},
   "source": [
    "# Introduction to Probability\n",
    "## Data Science 350\n",
    "\n",
    "Now that you have learned a bit about counting and combinatorics, let's put this knowledge to use by computing some probabilities. "
   ]
  },
  {
   "cell_type": "markdown",
   "metadata": {},
   "source": [
    "## Probability for dice\n",
    "\n",
    "Let's start with some simple examples of computing probabilities for rolls of a pair of dice. Once we can use combinatorics to enumerate all possible states following a series of events, we can also compute probabilities of these events. \n",
    "\n",
    "Let's start by enumerating all of the possible end states from throwing two dice. We will assume that these dice are 'fair'.  In other words, the chance there is an equal probability that any face of the dice will land pointing up. In terms of probability, we say that the distribution of scores for each die follows a **Uniform distribution**. further, we assume that the dice are indentical and that the score for each dice is not dependent on the other dice. In the terminology of probability, we can now say that the score of each dice is **Independent Identically Distributed**, or **iid**.  \n",
    "\n",
    "The code in the cell below computes as table with all possible outcomes. Run this code and examine the  results. "
   ]
  },
  {
   "cell_type": "code",
   "execution_count": 8,
   "metadata": {},
   "outputs": [
    {
     "data": {
      "text/html": [
       "<table>\n",
       "<thead><tr><th scope=col>Var1</th><th scope=col>Var2</th></tr></thead>\n",
       "<tbody>\n",
       "\t<tr><td>1</td><td>1</td></tr>\n",
       "\t<tr><td>2</td><td>1</td></tr>\n",
       "\t<tr><td>3</td><td>1</td></tr>\n",
       "\t<tr><td>4</td><td>1</td></tr>\n",
       "\t<tr><td>5</td><td>1</td></tr>\n",
       "\t<tr><td>6</td><td>1</td></tr>\n",
       "\t<tr><td>1</td><td>2</td></tr>\n",
       "\t<tr><td>2</td><td>2</td></tr>\n",
       "\t<tr><td>3</td><td>2</td></tr>\n",
       "\t<tr><td>4</td><td>2</td></tr>\n",
       "\t<tr><td>5</td><td>2</td></tr>\n",
       "\t<tr><td>6</td><td>2</td></tr>\n",
       "\t<tr><td>1</td><td>3</td></tr>\n",
       "\t<tr><td>2</td><td>3</td></tr>\n",
       "\t<tr><td>3</td><td>3</td></tr>\n",
       "\t<tr><td>4</td><td>3</td></tr>\n",
       "\t<tr><td>5</td><td>3</td></tr>\n",
       "\t<tr><td>6</td><td>3</td></tr>\n",
       "\t<tr><td>1</td><td>4</td></tr>\n",
       "\t<tr><td>2</td><td>4</td></tr>\n",
       "\t<tr><td>3</td><td>4</td></tr>\n",
       "\t<tr><td>4</td><td>4</td></tr>\n",
       "\t<tr><td>5</td><td>4</td></tr>\n",
       "\t<tr><td>6</td><td>4</td></tr>\n",
       "\t<tr><td>1</td><td>5</td></tr>\n",
       "\t<tr><td>2</td><td>5</td></tr>\n",
       "\t<tr><td>3</td><td>5</td></tr>\n",
       "\t<tr><td>4</td><td>5</td></tr>\n",
       "\t<tr><td>5</td><td>5</td></tr>\n",
       "\t<tr><td>6</td><td>5</td></tr>\n",
       "\t<tr><td>1</td><td>6</td></tr>\n",
       "\t<tr><td>2</td><td>6</td></tr>\n",
       "\t<tr><td>3</td><td>6</td></tr>\n",
       "\t<tr><td>4</td><td>6</td></tr>\n",
       "\t<tr><td>5</td><td>6</td></tr>\n",
       "\t<tr><td>6</td><td>6</td></tr>\n",
       "</tbody>\n",
       "</table>\n"
      ],
      "text/latex": [
       "\\begin{tabular}{r|ll}\n",
       " Var1 & Var2\\\\\n",
       "\\hline\n",
       "\t 1 & 1\\\\\n",
       "\t 2 & 1\\\\\n",
       "\t 3 & 1\\\\\n",
       "\t 4 & 1\\\\\n",
       "\t 5 & 1\\\\\n",
       "\t 6 & 1\\\\\n",
       "\t 1 & 2\\\\\n",
       "\t 2 & 2\\\\\n",
       "\t 3 & 2\\\\\n",
       "\t 4 & 2\\\\\n",
       "\t 5 & 2\\\\\n",
       "\t 6 & 2\\\\\n",
       "\t 1 & 3\\\\\n",
       "\t 2 & 3\\\\\n",
       "\t 3 & 3\\\\\n",
       "\t 4 & 3\\\\\n",
       "\t 5 & 3\\\\\n",
       "\t 6 & 3\\\\\n",
       "\t 1 & 4\\\\\n",
       "\t 2 & 4\\\\\n",
       "\t 3 & 4\\\\\n",
       "\t 4 & 4\\\\\n",
       "\t 5 & 4\\\\\n",
       "\t 6 & 4\\\\\n",
       "\t 1 & 5\\\\\n",
       "\t 2 & 5\\\\\n",
       "\t 3 & 5\\\\\n",
       "\t 4 & 5\\\\\n",
       "\t 5 & 5\\\\\n",
       "\t 6 & 5\\\\\n",
       "\t 1 & 6\\\\\n",
       "\t 2 & 6\\\\\n",
       "\t 3 & 6\\\\\n",
       "\t 4 & 6\\\\\n",
       "\t 5 & 6\\\\\n",
       "\t 6 & 6\\\\\n",
       "\\end{tabular}\n"
      ],
      "text/markdown": [
       "\n",
       "Var1 | Var2 | \n",
       "|---|---|---|---|---|---|---|---|---|---|---|---|---|---|---|---|---|---|---|---|---|---|---|---|---|---|---|---|---|---|---|---|---|---|---|---|\n",
       "| 1 | 1 | \n",
       "| 2 | 1 | \n",
       "| 3 | 1 | \n",
       "| 4 | 1 | \n",
       "| 5 | 1 | \n",
       "| 6 | 1 | \n",
       "| 1 | 2 | \n",
       "| 2 | 2 | \n",
       "| 3 | 2 | \n",
       "| 4 | 2 | \n",
       "| 5 | 2 | \n",
       "| 6 | 2 | \n",
       "| 1 | 3 | \n",
       "| 2 | 3 | \n",
       "| 3 | 3 | \n",
       "| 4 | 3 | \n",
       "| 5 | 3 | \n",
       "| 6 | 3 | \n",
       "| 1 | 4 | \n",
       "| 2 | 4 | \n",
       "| 3 | 4 | \n",
       "| 4 | 4 | \n",
       "| 5 | 4 | \n",
       "| 6 | 4 | \n",
       "| 1 | 5 | \n",
       "| 2 | 5 | \n",
       "| 3 | 5 | \n",
       "| 4 | 5 | \n",
       "| 5 | 5 | \n",
       "| 6 | 5 | \n",
       "| 1 | 6 | \n",
       "| 2 | 6 | \n",
       "| 3 | 6 | \n",
       "| 4 | 6 | \n",
       "| 5 | 6 | \n",
       "| 6 | 6 | \n",
       "\n",
       "\n"
      ],
      "text/plain": [
       "   Var1 Var2\n",
       "1  1    1   \n",
       "2  2    1   \n",
       "3  3    1   \n",
       "4  4    1   \n",
       "5  5    1   \n",
       "6  6    1   \n",
       "7  1    2   \n",
       "8  2    2   \n",
       "9  3    2   \n",
       "10 4    2   \n",
       "11 5    2   \n",
       "12 6    2   \n",
       "13 1    3   \n",
       "14 2    3   \n",
       "15 3    3   \n",
       "16 4    3   \n",
       "17 5    3   \n",
       "18 6    3   \n",
       "19 1    4   \n",
       "20 2    4   \n",
       "21 3    4   \n",
       "22 4    4   \n",
       "23 5    4   \n",
       "24 6    4   \n",
       "25 1    5   \n",
       "26 2    5   \n",
       "27 3    5   \n",
       "28 4    5   \n",
       "29 5    5   \n",
       "30 6    5   \n",
       "31 1    6   \n",
       "32 2    6   \n",
       "33 3    6   \n",
       "34 4    6   \n",
       "35 5    6   \n",
       "36 6    6   "
      ]
     },
     "metadata": {},
     "output_type": "display_data"
    }
   ],
   "source": [
    "##-----Two Dice Example ------\n",
    "twoDice = expand.grid(1:6,1:6)\n",
    "twoDice"
   ]
  },
  {
   "cell_type": "markdown",
   "metadata": {},
   "source": [
    "As a first step in computing the probabilities, we need to find how many ways we can get into each state. In the case of the dice, how many ways can we roll each score (sum of the numbers shown on the upper side of the dice). The figure below shows an example of the number of ways we can roll a 7 or a 10.\n",
    "\n",
    "![](img/Dice.jpg)\n",
    "\n",
    "The code in the table below computes the score for each state in our table, as well as determining if the score is a result of a double. Execute this code and examine the results."
   ]
  },
  {
   "cell_type": "code",
   "execution_count": 9,
   "metadata": {
    "scrolled": false
   },
   "outputs": [
    {
     "data": {
      "text/html": [
       "<table>\n",
       "<thead><tr><th scope=col>Var1</th><th scope=col>Var2</th><th scope=col>sum</th><th scope=col>isdouble</th></tr></thead>\n",
       "<tbody>\n",
       "\t<tr><td>1    </td><td>1    </td><td> 2   </td><td> TRUE</td></tr>\n",
       "\t<tr><td>2    </td><td>1    </td><td> 3   </td><td>FALSE</td></tr>\n",
       "\t<tr><td>3    </td><td>1    </td><td> 4   </td><td>FALSE</td></tr>\n",
       "\t<tr><td>4    </td><td>1    </td><td> 5   </td><td>FALSE</td></tr>\n",
       "\t<tr><td>5    </td><td>1    </td><td> 6   </td><td>FALSE</td></tr>\n",
       "\t<tr><td>6    </td><td>1    </td><td> 7   </td><td>FALSE</td></tr>\n",
       "\t<tr><td>1    </td><td>2    </td><td> 3   </td><td>FALSE</td></tr>\n",
       "\t<tr><td>2    </td><td>2    </td><td> 4   </td><td> TRUE</td></tr>\n",
       "\t<tr><td>3    </td><td>2    </td><td> 5   </td><td>FALSE</td></tr>\n",
       "\t<tr><td>4    </td><td>2    </td><td> 6   </td><td>FALSE</td></tr>\n",
       "\t<tr><td>5    </td><td>2    </td><td> 7   </td><td>FALSE</td></tr>\n",
       "\t<tr><td>6    </td><td>2    </td><td> 8   </td><td>FALSE</td></tr>\n",
       "\t<tr><td>1    </td><td>3    </td><td> 4   </td><td>FALSE</td></tr>\n",
       "\t<tr><td>2    </td><td>3    </td><td> 5   </td><td>FALSE</td></tr>\n",
       "\t<tr><td>3    </td><td>3    </td><td> 6   </td><td> TRUE</td></tr>\n",
       "\t<tr><td>4    </td><td>3    </td><td> 7   </td><td>FALSE</td></tr>\n",
       "\t<tr><td>5    </td><td>3    </td><td> 8   </td><td>FALSE</td></tr>\n",
       "\t<tr><td>6    </td><td>3    </td><td> 9   </td><td>FALSE</td></tr>\n",
       "\t<tr><td>1    </td><td>4    </td><td> 5   </td><td>FALSE</td></tr>\n",
       "\t<tr><td>2    </td><td>4    </td><td> 6   </td><td>FALSE</td></tr>\n",
       "\t<tr><td>3    </td><td>4    </td><td> 7   </td><td>FALSE</td></tr>\n",
       "\t<tr><td>4    </td><td>4    </td><td> 8   </td><td> TRUE</td></tr>\n",
       "\t<tr><td>5    </td><td>4    </td><td> 9   </td><td>FALSE</td></tr>\n",
       "\t<tr><td>6    </td><td>4    </td><td>10   </td><td>FALSE</td></tr>\n",
       "\t<tr><td>1    </td><td>5    </td><td> 6   </td><td>FALSE</td></tr>\n",
       "\t<tr><td>2    </td><td>5    </td><td> 7   </td><td>FALSE</td></tr>\n",
       "\t<tr><td>3    </td><td>5    </td><td> 8   </td><td>FALSE</td></tr>\n",
       "\t<tr><td>4    </td><td>5    </td><td> 9   </td><td>FALSE</td></tr>\n",
       "\t<tr><td>5    </td><td>5    </td><td>10   </td><td> TRUE</td></tr>\n",
       "\t<tr><td>6    </td><td>5    </td><td>11   </td><td>FALSE</td></tr>\n",
       "\t<tr><td>1    </td><td>6    </td><td> 7   </td><td>FALSE</td></tr>\n",
       "\t<tr><td>2    </td><td>6    </td><td> 8   </td><td>FALSE</td></tr>\n",
       "\t<tr><td>3    </td><td>6    </td><td> 9   </td><td>FALSE</td></tr>\n",
       "\t<tr><td>4    </td><td>6    </td><td>10   </td><td>FALSE</td></tr>\n",
       "\t<tr><td>5    </td><td>6    </td><td>11   </td><td>FALSE</td></tr>\n",
       "\t<tr><td>6    </td><td>6    </td><td>12   </td><td> TRUE</td></tr>\n",
       "</tbody>\n",
       "</table>\n"
      ],
      "text/latex": [
       "\\begin{tabular}{r|llll}\n",
       " Var1 & Var2 & sum & isdouble\\\\\n",
       "\\hline\n",
       "\t 1     & 1     &  2    &  TRUE\\\\\n",
       "\t 2     & 1     &  3    & FALSE\\\\\n",
       "\t 3     & 1     &  4    & FALSE\\\\\n",
       "\t 4     & 1     &  5    & FALSE\\\\\n",
       "\t 5     & 1     &  6    & FALSE\\\\\n",
       "\t 6     & 1     &  7    & FALSE\\\\\n",
       "\t 1     & 2     &  3    & FALSE\\\\\n",
       "\t 2     & 2     &  4    &  TRUE\\\\\n",
       "\t 3     & 2     &  5    & FALSE\\\\\n",
       "\t 4     & 2     &  6    & FALSE\\\\\n",
       "\t 5     & 2     &  7    & FALSE\\\\\n",
       "\t 6     & 2     &  8    & FALSE\\\\\n",
       "\t 1     & 3     &  4    & FALSE\\\\\n",
       "\t 2     & 3     &  5    & FALSE\\\\\n",
       "\t 3     & 3     &  6    &  TRUE\\\\\n",
       "\t 4     & 3     &  7    & FALSE\\\\\n",
       "\t 5     & 3     &  8    & FALSE\\\\\n",
       "\t 6     & 3     &  9    & FALSE\\\\\n",
       "\t 1     & 4     &  5    & FALSE\\\\\n",
       "\t 2     & 4     &  6    & FALSE\\\\\n",
       "\t 3     & 4     &  7    & FALSE\\\\\n",
       "\t 4     & 4     &  8    &  TRUE\\\\\n",
       "\t 5     & 4     &  9    & FALSE\\\\\n",
       "\t 6     & 4     & 10    & FALSE\\\\\n",
       "\t 1     & 5     &  6    & FALSE\\\\\n",
       "\t 2     & 5     &  7    & FALSE\\\\\n",
       "\t 3     & 5     &  8    & FALSE\\\\\n",
       "\t 4     & 5     &  9    & FALSE\\\\\n",
       "\t 5     & 5     & 10    &  TRUE\\\\\n",
       "\t 6     & 5     & 11    & FALSE\\\\\n",
       "\t 1     & 6     &  7    & FALSE\\\\\n",
       "\t 2     & 6     &  8    & FALSE\\\\\n",
       "\t 3     & 6     &  9    & FALSE\\\\\n",
       "\t 4     & 6     & 10    & FALSE\\\\\n",
       "\t 5     & 6     & 11    & FALSE\\\\\n",
       "\t 6     & 6     & 12    &  TRUE\\\\\n",
       "\\end{tabular}\n"
      ],
      "text/markdown": [
       "\n",
       "Var1 | Var2 | sum | isdouble | \n",
       "|---|---|---|---|---|---|---|---|---|---|---|---|---|---|---|---|---|---|---|---|---|---|---|---|---|---|---|---|---|---|---|---|---|---|---|---|\n",
       "| 1     | 1     |  2    |  TRUE | \n",
       "| 2     | 1     |  3    | FALSE | \n",
       "| 3     | 1     |  4    | FALSE | \n",
       "| 4     | 1     |  5    | FALSE | \n",
       "| 5     | 1     |  6    | FALSE | \n",
       "| 6     | 1     |  7    | FALSE | \n",
       "| 1     | 2     |  3    | FALSE | \n",
       "| 2     | 2     |  4    |  TRUE | \n",
       "| 3     | 2     |  5    | FALSE | \n",
       "| 4     | 2     |  6    | FALSE | \n",
       "| 5     | 2     |  7    | FALSE | \n",
       "| 6     | 2     |  8    | FALSE | \n",
       "| 1     | 3     |  4    | FALSE | \n",
       "| 2     | 3     |  5    | FALSE | \n",
       "| 3     | 3     |  6    |  TRUE | \n",
       "| 4     | 3     |  7    | FALSE | \n",
       "| 5     | 3     |  8    | FALSE | \n",
       "| 6     | 3     |  9    | FALSE | \n",
       "| 1     | 4     |  5    | FALSE | \n",
       "| 2     | 4     |  6    | FALSE | \n",
       "| 3     | 4     |  7    | FALSE | \n",
       "| 4     | 4     |  8    |  TRUE | \n",
       "| 5     | 4     |  9    | FALSE | \n",
       "| 6     | 4     | 10    | FALSE | \n",
       "| 1     | 5     |  6    | FALSE | \n",
       "| 2     | 5     |  7    | FALSE | \n",
       "| 3     | 5     |  8    | FALSE | \n",
       "| 4     | 5     |  9    | FALSE | \n",
       "| 5     | 5     | 10    |  TRUE | \n",
       "| 6     | 5     | 11    | FALSE | \n",
       "| 1     | 6     |  7    | FALSE | \n",
       "| 2     | 6     |  8    | FALSE | \n",
       "| 3     | 6     |  9    | FALSE | \n",
       "| 4     | 6     | 10    | FALSE | \n",
       "| 5     | 6     | 11    | FALSE | \n",
       "| 6     | 6     | 12    |  TRUE | \n",
       "\n",
       "\n"
      ],
      "text/plain": [
       "   Var1 Var2 sum isdouble\n",
       "1  1    1     2   TRUE   \n",
       "2  2    1     3  FALSE   \n",
       "3  3    1     4  FALSE   \n",
       "4  4    1     5  FALSE   \n",
       "5  5    1     6  FALSE   \n",
       "6  6    1     7  FALSE   \n",
       "7  1    2     3  FALSE   \n",
       "8  2    2     4   TRUE   \n",
       "9  3    2     5  FALSE   \n",
       "10 4    2     6  FALSE   \n",
       "11 5    2     7  FALSE   \n",
       "12 6    2     8  FALSE   \n",
       "13 1    3     4  FALSE   \n",
       "14 2    3     5  FALSE   \n",
       "15 3    3     6   TRUE   \n",
       "16 4    3     7  FALSE   \n",
       "17 5    3     8  FALSE   \n",
       "18 6    3     9  FALSE   \n",
       "19 1    4     5  FALSE   \n",
       "20 2    4     6  FALSE   \n",
       "21 3    4     7  FALSE   \n",
       "22 4    4     8   TRUE   \n",
       "23 5    4     9  FALSE   \n",
       "24 6    4    10  FALSE   \n",
       "25 1    5     6  FALSE   \n",
       "26 2    5     7  FALSE   \n",
       "27 3    5     8  FALSE   \n",
       "28 4    5     9  FALSE   \n",
       "29 5    5    10   TRUE   \n",
       "30 6    5    11  FALSE   \n",
       "31 1    6     7  FALSE   \n",
       "32 2    6     8  FALSE   \n",
       "33 3    6     9  FALSE   \n",
       "34 4    6    10  FALSE   \n",
       "35 5    6    11  FALSE   \n",
       "36 6    6    12   TRUE   "
      ]
     },
     "metadata": {},
     "output_type": "display_data"
    }
   ],
   "source": [
    "twoDice$sum = twoDice$Var1 + twoDice$Var2\n",
    "twoDice$isdouble = twoDice$Var1 == twoDice$Var2 ## == is logical equals\n",
    "twoDice"
   ]
  },
  {
   "cell_type": "markdown",
   "metadata": {},
   "source": [
    "Next, we need to transform this table enumerating the states to a frequency table with the counts of states. Execute the code in the cell below to do just this."
   ]
  },
  {
   "cell_type": "code",
   "execution_count": 10,
   "metadata": {},
   "outputs": [
    {
     "data": {
      "text/plain": [
       "\n",
       " 2  3  4  5  6  7  8  9 10 11 12 \n",
       " 1  2  3  4  5  6  5  4  3  2  1 "
      ]
     },
     "metadata": {},
     "output_type": "display_data"
    }
   ],
   "source": [
    "# Count different sums\n",
    "sumCounts = table(twoDice$sum)\n",
    "sumCounts"
   ]
  },
  {
   "cell_type": "markdown",
   "metadata": {},
   "source": [
    "Examine this table. Which score is the most likely, and  which scores are least likely?"
   ]
  },
  {
   "cell_type": "markdown",
   "metadata": {},
   "source": [
    "Finally, we can compute and plot the probabilites of the possible scores from rolling two dice. For situations where the outcomes are discrete states, the probability of each state is just the number of ways that state can occur divided by the total number of possible states. This is done to ensure the sum of all probabilities adds to 1.0. \n",
    "\n",
    "Execute the code in the cell below and examinethe result. "
   ]
  },
  {
   "cell_type": "code",
   "execution_count": 11,
   "metadata": {},
   "outputs": [
    {
     "data": {
      "image/png": "[encoded data removed]",
      "text/plain": [
       "plot without title"
      ]
     },
     "metadata": {},
     "output_type": "display_data"
    }
   ],
   "source": [
    "require(MASS) # Includes the fractions function\n",
    "# Probabilities of sums: \n",
    "sumProb = fractions(table(twoDice$sum)/nrow(twoDice)) \n",
    "barplot(sumProb)"
   ]
  },
  {
   "cell_type": "markdown",
   "metadata": {
    "collapsed": true
   },
   "source": [
    "Examine this result. Notice that the probabilities are proportional to the frequencies, but are scaled to ensure they add to 1.0.\n",
    "\n"
   ]
  },
  {
   "cell_type": "code",
   "execution_count": 12,
   "metadata": {},
   "outputs": [
    {
     "data": {
      "text/plain": [
       "\n",
       "   2    3    4    5    6    7    8    9   10   11   12 \n",
       "1/36 1/18 1/12  1/9 5/36  1/6 5/36  1/9 1/12 1/18 1/36 "
      ]
     },
     "metadata": {},
     "output_type": "display_data"
    }
   ],
   "source": [
    "sumProb"
   ]
  },
  {
   "cell_type": "markdown",
   "metadata": {},
   "source": [
    "***\n",
    "**Your turn:** Create and execute the code in the cell below to compute the probability of rolling a double. You can compute the total number of doubles from the `twoDice` data frame and normalize by the number of possible cases.d **Hint:** Use the `fractions` function from the 'MASS' library to display the probability as a fraction which you might find easier to interpret.\n",
    "***"
   ]
  },
  {
   "cell_type": "code",
   "execution_count": 6,
   "metadata": {},
   "outputs": [
    {
     "data": {
      "text/html": [
       "1/6"
      ],
      "text/latex": [
       "1/6"
      ],
      "text/markdown": [
       "1/6"
      ],
      "text/plain": [
       "[1] 1/6"
      ]
     },
     "metadata": {},
     "output_type": "display_data"
    }
   ],
   "source": [
    "fractions(sum(twoDice$Var1 == twoDice$Var2)/nrow(twoDice))"
   ]
  },
  {
   "cell_type": "markdown",
   "metadata": {},
   "source": [
    "## Basics of Probability\n",
    "\n",
    "We will now investigate some basics of probability in a bit more detail.  \n",
    "\n",
    "### Discrete probability\n",
    "\n",
    "A **discrete distribution** is a probability distribution describing a process with discrete outcomes. By discrete outcomes, we mean outcomes that have specific states which we can count. We have already investigate an example of a discrete process when we examined the outcome of dice throws. Each die lands with a certain side up and the sum of the two numbers is the total score. \n",
    "\n",
    "For a discrete distribution the probability of an event, A, is the number of ways A can occur, divided by the number of total possible outcomes in our Sample Space, S. Let's make this concrete with an example. In the figure below there are 10 events in S, 6 in set A, and 4 in set B.\n",
    "\n",
    "![](img/Prob1.png)\n",
    "\n",
    "The probability of the events in a subset, A, given a set of possible events in the sample space, S, can be computed as follows:\n",
    "\n",
    "$$P(A) = \\frac{N(A)}{N(S)}$$\n",
    "\n",
    "In this case there are 10 events in S, 6 events in subset A and 4 in subset B. We can compute the probabilities of A and B like this:\n",
    "\n",
    "$$P(A) = \\frac{6}{10} = \\frac{3}{5} = 0.6\\\\\n",
    "P(B) = \\frac{4}{10} = \\frac{2}{5} = 0.4$$\n",
    "\n",
    "***\n",
    "**Your turn:** in the cell below find the probability that the score from a throw of a pair of dice will be less than or equal to 3. Hints: use filters on the `twoDice` data frame and the `nrow` function to get the counts. The `fractions` function will make your result easier to interpret.\n",
    "***"
   ]
  },
  {
   "cell_type": "code",
   "execution_count": 12,
   "metadata": {},
   "outputs": [
    {
     "data": {
      "text/html": [
       "1/12"
      ],
      "text/latex": [
       "1/12"
      ],
      "text/markdown": [
       "1/12"
      ],
      "text/plain": [
       "[1] 1/12"
      ]
     },
     "metadata": {},
     "output_type": "display_data"
    }
   ],
   "source": [
    "fractions(sum((twoDice$Var1 + twoDice$Var2) <= 3)/nrow(twoDice))"
   ]
  },
  {
   "cell_type": "code",
   "execution_count": 13,
   "metadata": {},
   "outputs": [
    {
     "data": {
      "text/html": [
       "<ol class=list-inline>\n",
       "\t<li>TRUE</li>\n",
       "\t<li>TRUE</li>\n",
       "\t<li>FALSE</li>\n",
       "\t<li>FALSE</li>\n",
       "\t<li>FALSE</li>\n",
       "\t<li>FALSE</li>\n",
       "\t<li>TRUE</li>\n",
       "\t<li>FALSE</li>\n",
       "\t<li>FALSE</li>\n",
       "\t<li>FALSE</li>\n",
       "\t<li>FALSE</li>\n",
       "\t<li>FALSE</li>\n",
       "\t<li>FALSE</li>\n",
       "\t<li>FALSE</li>\n",
       "\t<li>FALSE</li>\n",
       "\t<li>FALSE</li>\n",
       "\t<li>FALSE</li>\n",
       "\t<li>FALSE</li>\n",
       "\t<li>FALSE</li>\n",
       "\t<li>FALSE</li>\n",
       "\t<li>FALSE</li>\n",
       "\t<li>FALSE</li>\n",
       "\t<li>FALSE</li>\n",
       "\t<li>FALSE</li>\n",
       "\t<li>FALSE</li>\n",
       "\t<li>FALSE</li>\n",
       "\t<li>FALSE</li>\n",
       "\t<li>FALSE</li>\n",
       "\t<li>FALSE</li>\n",
       "\t<li>FALSE</li>\n",
       "\t<li>FALSE</li>\n",
       "\t<li>FALSE</li>\n",
       "\t<li>FALSE</li>\n",
       "\t<li>FALSE</li>\n",
       "\t<li>FALSE</li>\n",
       "\t<li>FALSE</li>\n",
       "</ol>\n"
      ],
      "text/latex": [
       "\\begin{enumerate*}\n",
       "\\item TRUE\n",
       "\\item TRUE\n",
       "\\item FALSE\n",
       "\\item FALSE\n",
       "\\item FALSE\n",
       "\\item FALSE\n",
       "\\item TRUE\n",
       "\\item FALSE\n",
       "\\item FALSE\n",
       "\\item FALSE\n",
       "\\item FALSE\n",
       "\\item FALSE\n",
       "\\item FALSE\n",
       "\\item FALSE\n",
       "\\item FALSE\n",
       "\\item FALSE\n",
       "\\item FALSE\n",
       "\\item FALSE\n",
       "\\item FALSE\n",
       "\\item FALSE\n",
       "\\item FALSE\n",
       "\\item FALSE\n",
       "\\item FALSE\n",
       "\\item FALSE\n",
       "\\item FALSE\n",
       "\\item FALSE\n",
       "\\item FALSE\n",
       "\\item FALSE\n",
       "\\item FALSE\n",
       "\\item FALSE\n",
       "\\item FALSE\n",
       "\\item FALSE\n",
       "\\item FALSE\n",
       "\\item FALSE\n",
       "\\item FALSE\n",
       "\\item FALSE\n",
       "\\end{enumerate*}\n"
      ],
      "text/markdown": [
       "1. TRUE\n",
       "2. TRUE\n",
       "3. FALSE\n",
       "4. FALSE\n",
       "5. FALSE\n",
       "6. FALSE\n",
       "7. TRUE\n",
       "8. FALSE\n",
       "9. FALSE\n",
       "10. FALSE\n",
       "11. FALSE\n",
       "12. FALSE\n",
       "13. FALSE\n",
       "14. FALSE\n",
       "15. FALSE\n",
       "16. FALSE\n",
       "17. FALSE\n",
       "18. FALSE\n",
       "19. FALSE\n",
       "20. FALSE\n",
       "21. FALSE\n",
       "22. FALSE\n",
       "23. FALSE\n",
       "24. FALSE\n",
       "25. FALSE\n",
       "26. FALSE\n",
       "27. FALSE\n",
       "28. FALSE\n",
       "29. FALSE\n",
       "30. FALSE\n",
       "31. FALSE\n",
       "32. FALSE\n",
       "33. FALSE\n",
       "34. FALSE\n",
       "35. FALSE\n",
       "36. FALSE\n",
       "\n",
       "\n"
      ],
      "text/plain": [
       " [1]  TRUE  TRUE FALSE FALSE FALSE FALSE  TRUE FALSE FALSE FALSE FALSE FALSE\n",
       "[13] FALSE FALSE FALSE FALSE FALSE FALSE FALSE FALSE FALSE FALSE FALSE FALSE\n",
       "[25] FALSE FALSE FALSE FALSE FALSE FALSE FALSE FALSE FALSE FALSE FALSE FALSE"
      ]
     },
     "metadata": {},
     "output_type": "display_data"
    }
   ],
   "source": [
    "(twoDice$Var1 + twoDice$Var2) <= 3"
   ]
  },
  {
   "cell_type": "code",
   "execution_count": 14,
   "metadata": {},
   "outputs": [
    {
     "data": {
      "text/html": [
       "3"
      ],
      "text/latex": [
       "3"
      ],
      "text/markdown": [
       "3"
      ],
      "text/plain": [
       "[1] 3"
      ]
     },
     "metadata": {},
     "output_type": "display_data"
    }
   ],
   "source": [
    "sum((twoDice$Var1 + twoDice$Var2) <= 3)"
   ]
  },
  {
   "cell_type": "code",
   "execution_count": 7,
   "metadata": {},
   "outputs": [
    {
     "data": {
      "text/html": [
       "36"
      ],
      "text/latex": [
       "36"
      ],
      "text/markdown": [
       "36"
      ],
      "text/plain": [
       "[1] 36"
      ]
     },
     "metadata": {},
     "output_type": "display_data"
    }
   ],
   "source": [
    "nrow(twoDice)"
   ]
  },
  {
   "cell_type": "markdown",
   "metadata": {},
   "source": [
    "### Axioms of probability\n",
    "\n",
    "All probability distributions must have a certian properties, which we refer to as the **axioms of probability**. These are:\n",
    "\n",
    "- Probability for any set, A, is bounded between 0 and 1:  \n",
    "\n",
    "$$ 0 \\le P(A) \\le 1 $$\n",
    "\n",
    "- Probability of the Sample Space = 1: \n",
    "\n",
    "$$P(S) = \\sum_{All\\ i}P(a_i) = 1$$\n",
    "\n",
    "- The probability of finite independent unions is the sum of their probabilities:\n",
    "\n",
    "$$P(A \\cup B) = P(A) + P(B)\\\\ if\\ and\\ only\\ if\\\\ A \\cap B = 0$$\n",
    "\n",
    "***\n",
    "**Your turn:** In the cell below create and execute the R code to show that $P(S) = 1$ for the simple set example we are using.\n",
    "***"
   ]
  },
  {
   "cell_type": "code",
   "execution_count": 16,
   "metadata": {},
   "outputs": [
    {
     "data": {
      "text/html": [
       "1"
      ],
      "text/latex": [
       "1"
      ],
      "text/markdown": [
       "1"
      ],
      "text/plain": [
       "[1] 1"
      ]
     },
     "metadata": {},
     "output_type": "display_data"
    }
   ],
   "source": [
    "10/10"
   ]
  },
  {
   "cell_type": "markdown",
   "metadata": {},
   "source": [
    "### Set operatons and probability\n",
    "\n",
    "Set operations can be readily applied to probability problems. Continuing with our example, we can apply the following common set operations.\n",
    "\n",
    "- **Intersection:** \n",
    "$$P(A \\cap B)  = \\frac{2}{10} = \\frac{1}{5} = 0.2$$\n",
    "\n",
    "- **Union:** \n",
    "$$P(A \\cup B) = \\frac{8}{10} = \\frac{4}{5} = 0.8$$\n",
    "\n",
    "- **Negation:** \n",
    "$$P(A)' = \\frac{4}{10} = \\frac{2}{5} = 0.4$$\n",
    "\n",
    "You can use this basic operations to create more complex operations. For example:\n",
    "\n",
    "$$P((A \\cup B)') = P(A' \\cap B') = P(C) = \\frac{2}{10} = 0.2$$\n",
    "\n",
    "We can also write an expression like the following:\n",
    "\n",
    "$$P(A \\cup B) = P(A) + P(B) - P(A \\cap B)$$\n",
    "\n",
    "### Independence vs. mutual exclusivity\n",
    "\n",
    "In probability there are two concepts which are quite different but often confused, mutual exclusivity and independence.\n",
    "\n",
    "Events in B are considered **independent** of events in A, if events in B have no effect on events in A. For independent events, we can write the following:\n",
    "\n",
    "$$P(A \\cap B) = 0\\\\\n",
    "then\\\\\n",
    "P(A \\cup B) = P(A) + P(B)$$\n",
    "\n",
    "If A and B are **mutually exclusive** an event in B means there are can be no event in A and vice versa. For mutually exclusive events, we can write:\n",
    "\n",
    "$$P(A \\cap B) = 0 = Empty\\ set\\\\\n",
    "and\\\\\n",
    "P(A \\cup B) = P(A) + P(B)\\\\\n",
    "because\\ either\\\\\n",
    "P(A) = 0\\\\\n",
    "or\\\\\n",
    "P(B) = 0\n",
    "$$\n",
    "\n"
   ]
  },
  {
   "cell_type": "markdown",
   "metadata": {},
   "source": [
    "***\n",
    "**Your turn:** Consider the diagram of event sub-sets in the figure below:\n",
    "\n",
    "![](img/ME.jpg)\n",
    "\n",
    "Write and execute the R code to compute the following:\n",
    "$$P(A \\cup B)\\\\\n",
    "P(A \\cap B)\\\\\n",
    "P((A \\cup B)')$$\n",
    "***"
   ]
  },
  {
   "cell_type": "code",
   "execution_count": 19,
   "metadata": {},
   "outputs": [
    {
     "name": "stdout",
     "output_type": "stream",
     "text": [
      "P Union =  0.6 \n",
      "P Intersection =  0 \n",
      "P NOT Union =  0.4"
     ]
    }
   ],
   "source": [
    "cat('P Union = ', 6/10, '\\n')\n",
    "cat('P Intersection = ', 0, '\\n')\n",
    "cat('P NOT Union = ', 4/10)"
   ]
  },
  {
   "cell_type": "markdown",
   "metadata": {},
   "source": [
    "### Conditional probability\n",
    "![](img/Prob1.png)\n",
    "\n",
    "**Conditional probability** is the probility that event A occurs given that event B has occured. We can write conditional probability as follow, which we say is the probability of A given B:\n",
    "\n",
    "$$P(A|B)$$\n",
    "\n",
    "We can work out this conditional probabilty as follows:\n",
    "\n",
    "$$P(A|B) = \\frac{P(A \\cap B)}{P(B)} = \\frac{\\frac{2}{10}}{\\frac{4}{10}} = \\frac{2}{4} = \\frac{1}{2}$$\n",
    "\n",
    "If event A is **independent** of B, then:\n",
    "\n",
    "$$P(A|B) = P(A)$$\n",
    "\n",
    "But, just because A is independent of B, does not mean B is independent of A. Or, in terms of our notation:\n",
    "\n",
    "$$P(A|B) = P(A)\\\\ does\\ not\\ imply\\\\ P(B|A) = P(B)$$\n",
    "\n",
    "For example, the probability that your boss will approve your vacation request may be dependent on when she wishes to take vacation. However, it is unlikely that the probability that your boss takes vacation is dependent of when you wish to take vacation. "
   ]
  },
  {
   "cell_type": "markdown",
   "metadata": {},
   "source": [
    "###  Conditional Probability Example\n",
    "\n",
    "Let's try an example of using conditional probabilities to work out the chance of having a rare disease. The scenario is as follows:\n",
    "\n",
    "1. Sickle Cell Anemia is a serious, but fairly rare disease.\n",
    " - $S \\Rightarrow$ a patient has the disease. \n",
    " - The probability that a given patient has the disease is $P(S) = \\frac{1}{3200} = 0.0003125$.\n",
    " - $S' \\Rightarrow$ a parient does not have the disease.\n",
    " - $\\oplus \\Rightarrow$ patient tests positive.\n",
    " - $- \\Rightarrow$ a patient tests negative.\n",
    "2. A medical company claims that its test is 99% accurate, giving:\n",
    "  - $P(S |\\oplus) = 0.99$\n",
    "  - $P(S'|-) = 0.99$\n",
    "  \n",
    "On the surface, it seems that a 99% reliable test should be rather good. But, let's dig into the conditional probabiilites and see how things reallly work out. \n",
    "\n",
    "The figure below shows a **conditional probability tree** for this problem. \n",
    "\n",
    "![](img/CondTree.jpg)\n",
    "\n",
    "If you follow the tree from the root you can visualize the computation of probabilities for each of the 4 possible outcomes of a test on a patient. Let's summarize the conditional probabilities we need to compute for these outcomes:\n",
    "\n",
    "- $P(\\oplus | S)$ is the conditional probability the test will correctly identify a patient with the disease. \n",
    "- $P(- | S)$; is the conditional probability of a negative test for a patient with the disease. We call this situation a **Type II Error** or **False Negative**.\n",
    "-  $P(\\oplus | S')$ is the conditional probability a patient with no disease will test positive. We call this situation a **Type I Error** or **False Positive**.\n",
    "- $P(- | S')$; is the conditional probability of a negative test for a patient who does not have the disease.\n",
    "\n",
    "Let's start with the easy cases. We know the probability of a patient having the disease and we know the accuracy of the test. In the code cell below, create and execute the R code to compute the conditional probabilities of a positive test given the patient has the disease, and a negative test given the patient does not have the disease. "
   ]
  },
  {
   "cell_type": "code",
   "execution_count": 20,
   "metadata": {},
   "outputs": [
    {
     "name": "stdout",
     "output_type": "stream",
     "text": [
      "0.000309375 0.9896906"
     ]
    }
   ],
   "source": [
    "pDisease = 0.0003125\n",
    "pNotDisease = 1 - pDisease\n",
    "pCorrect = 0.99\n",
    "pError = 1 - pCorrect\n",
    "pCorDisease = pDisease * pCorrect\n",
    "pCorNotDisease = pNotDisease * pCorrect\n",
    "cat(pCorDisease, pCorNotDisease)"
   ]
  },
  {
   "cell_type": "markdown",
   "metadata": {},
   "source": [
    "So far, so good. Next, let's compute the conditional probabilities for the cases where our test is in error. In the code cell below, create and execute the R code to compute the conditional probabilities of a negative test given the patient has the disease, and a positive test given the patient does not have the disease. Compare these results to the conditional probabilities you computed above. "
   ]
  },
  {
   "cell_type": "code",
   "execution_count": 21,
   "metadata": {},
   "outputs": [
    {
     "name": "stdout",
     "output_type": "stream",
     "text": [
      "3.125e-06 0.009996875"
     ]
    }
   ],
   "source": [
    "pErDisease = pError * pDisease\n",
    "pErNotDisease = pError * pNotDisease\n",
    "cat(pErDisease, pErNotDisease)"
   ]
  },
  {
   "cell_type": "markdown",
   "metadata": {},
   "source": [
    "Propability of false postive (0.009996875) is greater than the probability of actually having the disease (0.000309375)\n",
    "It's more likely the test will freak you out, than you actually have the disease"
   ]
  },
  {
   "cell_type": "markdown",
   "metadata": {},
   "source": [
    "Given these results, do you think this test is actually useful? Why?\n",
    "\n",
    "You can visualize the summary of these results in the figure below. \n",
    "\n",
    "![](img/CondTreeProbs.jpg)\n",
    "\n",
    "Let's do one final check. In the cell below, create and execute the code to compute the sum of the probabilities of all the possible outcomes. Does the sum equal to 1.0. "
   ]
  },
  {
   "cell_type": "code",
   "execution_count": 22,
   "metadata": {},
   "outputs": [
    {
     "data": {
      "text/html": [
       "1"
      ],
      "text/latex": [
       "1"
      ],
      "text/markdown": [
       "1"
      ],
      "text/plain": [
       "[1] 1"
      ]
     },
     "metadata": {},
     "output_type": "display_data"
    }
   ],
   "source": [
    "pCorDisease + pCorNotDisease + pErDisease + pErNotDisease"
   ]
  },
  {
   "cell_type": "markdown",
   "metadata": {},
   "source": [
    "## Odds\n",
    "\n",
    "**Odds** are the ratio of the number of ways an event can occur to the number of ways it cannot occur. Sometimes we say that **odds** are the count of events in favor of an event vs. the count against the event. \n",
    "\n",
    "For example, if you flip a fair coin the odds of getting heads are $1:1$ (1 in 1). Since there are only two possible equally likely outcomes in the coin flip we say the odds of the outcome are even. As another example, if you roll a single fair die your odds of rolling a 6 are $1:5$ (1 in 5), or 0.2. \n",
    "\n",
    "_It's $1:5$ because there's 1 way you can get a 6, and 5 ways you can get a non-6_\n",
    "\n",
    "It is natural to ask, what is the relationship between odds and probability of an event? We can work this out for some event with count $A$ in a set of all outcomes with count $S$, and where the count of negative outcomes $B = S - A$, as follows:\n",
    "\n",
    "$$P(A) = \\frac{A}{S} = \\frac{A}{A + (S - A)} = \\frac{A}{A + B} = \\frac{count\\ in\\ favor}{count\\ in\\ favor\\ + count\\ not\\ in\\ favor}\\\\\n",
    "which\\ implies\\\\\n",
    "odds = A:(S-A)$$\n",
    "\n",
    "Let's say that for the fair coin flip, the odds are $1:1$. So we can compute the probability of heads as:\n",
    "\n",
    "$$P(H) = \\frac{1}{1 + 1} = \\frac{1}{2}$$\n",
    "\n",
    "***\n",
    "**Exercise:** Answer the following questions:\n",
    "1. We have said that the odds of rolling a 6 when throwing a single fair die are 1:5. What is the probability of rolling a 6?\n",
    "2. What are the odds and probability of rolling a total of 7 when throwing two fair dice?\n",
    "***"
   ]
  },
  {
   "cell_type": "code",
   "execution_count": 13,
   "metadata": {},
   "outputs": [
    {
     "data": {
      "text/html": [
       "0.166666666666667"
      ],
      "text/latex": [
       "0.166666666666667"
      ],
      "text/markdown": [
       "0.166666666666667"
      ],
      "text/plain": [
       "[1] 0.1666667"
      ]
     },
     "metadata": {},
     "output_type": "display_data"
    }
   ],
   "source": [
    "1/6"
   ]
  },
  {
   "cell_type": "code",
   "execution_count": 14,
   "metadata": {},
   "outputs": [
    {
     "data": {
      "text/html": [
       "1/6"
      ],
      "text/latex": [
       "1/6"
      ],
      "text/markdown": [
       "1/6"
      ],
      "text/plain": [
       "[1] 1/6"
      ]
     },
     "metadata": {},
     "output_type": "display_data"
    }
   ],
   "source": [
    "fractions(sum((twoDice$Var1 + twoDice$Var2) == 7)/nrow(twoDice))"
   ]
  },
  {
   "cell_type": "code",
   "execution_count": 16,
   "metadata": {},
   "outputs": [
    {
     "data": {
      "text/html": [
       "1/5"
      ],
      "text/latex": [
       "1/5"
      ],
      "text/markdown": [
       "1/5"
      ],
      "text/plain": [
       "[1] 1/5"
      ]
     },
     "metadata": {},
     "output_type": "display_data"
    }
   ],
   "source": [
    "fractions(sum((twoDice$Var1 + twoDice$Var2) == 7)/(nrow(twoDice) - sum((twoDice$Var1 + twoDice$Var2) == 7)))"
   ]
  },
  {
   "cell_type": "markdown",
   "metadata": {
    "collapsed": true
   },
   "source": [
    "## Conditional Probability and the Monte Hall Problem\n",
    "\n",
    "The long running television game show, *Let's Make A Deal*, created and hosted by *Monte Hall*, had its hay day in the 1970s. At the finally of the show, Monte would tell the winning contestant that she could pick a one of three doors. Behind one door there would be a valuable prize like a car. Worthless itemes, like a goat, were placed behind the other two doors. The contestant would pick a door. At this point Monte would build suspense by opening one of the other doors. Monte knew which door had the valuable prize, and would always reveal one of the worthless prizes. He would then tell the contestant that they could change their choice of doors. The question then is, should the contestant switch or stick with their original choice. The figure below illustrates the situation the contestant faces if they pick Door 1:\n",
    "\n",
    "![](img/Doors.jpg)\n",
    "\n",
    "In 1975, Steve Selvin published a letter in the *American Statistician* posing the problem of which strategy is optimal. The resulting debate created considerable controversy. This debate was put at full boil when Marilyn vos Savant wrote in her *Ask Marilyn* column in *Parade* magazine that the contestant should definitely switch. She was then ridiculed by several promenent statisticians, who should have know better! \n",
    "\n",
    "What would you do if you were the contestant? Fortunately for you, you know something about conditional probabilities. \n",
    "\n",
    "Your first choice, from the three doors, is purely random, since only Monte knows which door hides the car. You can compute the conditional probabilites of winning the car as follows.\n",
    "\n",
    "-  There is a probability of 2/3 that your initial pick will be one of the two doors with a goat.\n",
    "  * At this point, with probability 1 Monte will open the door with the other goat, since he cannot revel the location of the car.  \n",
    "  * If you switch door choices at this point you will win the car with probabilty 2/3, or;\n",
    "  $$P(win\\ car\\ with\\ switch\\ |\\ picked\\ goat\\ initially) = 1.0 * \\frac{2}{3} = \\frac{2}{3}$$\n",
    "  * However, if you do not switch, you will have 0 probability of winning the car, or:\n",
    "  $$P(win\\ car\\ no\\ switch\\ |\\ picked\\ goat\\ initially) = 0.0 * \\frac{2}{3} = 0.0$$\n",
    "-  There is a probability of 1/3 that your initial pick will be the only door with the car. \n",
    "  * At this point, with probability 1/2 Monte can open either of the other doors, as they both contain goats.  \n",
    "  * If you switch door choices at this point you will win the car with probabilty 0, or;\n",
    "  $$P(win\\ car\\ with\\ switch\\ |\\ picked\\ car\\ initially) = 0.0 * \\frac{1}{3} = 0$$\n",
    "  * However, if you do not switch, you will have probability 1/3 of winning the car, or:\n",
    "  $$P(win\\ car\\ no\\ switch\\ |\\ picked\\ car\\ initially) = 1.0 * \\frac{1}{3} = \\frac{1}{3}$$\n",
    "\n",
    "Summing up the probabilities you can see that you should always switch your door choice, since:\n",
    "\n",
    "$$\n",
    "P(win\\ car\\ | switch) = \\frac{2}{3} + 0 = \\frac{2}{3}\\\\\n",
    "whereas\\\\\n",
    "P(win\\ car\\ | no\\ switch) = \\frac{1}{3} + 0 = \\frac{1}{3}\\\\\n",
    "$$\n",
    "\n",
    "The diagram below expands the paths you can take in this contest, and shows the conditional probabilities at each step. \n",
    "\n",
    "![](img/Choices.jpg)\n",
    "\n",
    "The Monte Hall problem has been published in several forms. You can find more on the Monte Hall problem in the [Wikipedia article](https://en.wikipedia.org/wiki/Monty_Hall_problem)."
   ]
  },
  {
   "cell_type": "markdown",
   "metadata": {
    "collapsed": true
   },
   "source": [
    "## Summary\n",
    "\n",
    "In this notebook you have learned about some basic properties of discrete probabilities. Specifically:\n",
    "\n",
    "- Computing probabilites by summing events in a set A and normalizing the the total possible events in the sample space S.\n",
    "- Understandhe axiums probability.\n",
    "- Use set operations on probabities.\n",
    "- Compute probabilites for independent and mutually exclusive events.\n",
    "- Apply conditional probabilities. "
   ]
  },
  {
   "cell_type": "markdown",
   "metadata": {
    "collapsed": true
   },
   "source": [
    "##### Copyright 2017, Stephen F. Elston. All rights reserved."
   ]
  },
  {
   "cell_type": "code",
   "execution_count": null,
   "metadata": {
    "collapsed": true
   },
   "outputs": [],
   "source": []
  }
 ],
 "metadata": {
  "anaconda-cloud": {},
  "kernelspec": {
   "display_name": "R",
   "language": "R",
   "name": "ir"
  },
  "language_info": {
   "codemirror_mode": "r",
   "file_extension": ".r",
   "mimetype": "text/x-r-source",
   "name": "R",
   "pygments_lexer": "r",
   "version": "3.2.3"
  }
 },
 "nbformat": 4,
 "nbformat_minor": 1
}
